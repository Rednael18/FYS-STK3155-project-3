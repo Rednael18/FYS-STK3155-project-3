{
 "cells": [
  {
   "cell_type": "code",
   "execution_count": 1,
   "metadata": {},
   "outputs": [],
   "source": [
    "import numpy as np\n",
    "import matplotlib.pyplot as plt\n",
    "\n",
    "from eigenvalue_solver import generate_symmetric, compute_eigenvalues_eigenvectors"
   ]
  },
  {
   "cell_type": "code",
   "execution_count": 2,
   "metadata": {},
   "outputs": [],
   "source": [
    "def compute_angle(v1, v2):\n",
    "    \"\"\"Compute the angle between two vectors.\n",
    "    \n",
    "    Parameters\n",
    "    ----------\n",
    "    v1 : np.ndarray\n",
    "        The first vector.\n",
    "    v2 : np.ndarray\n",
    "        The second vector.\n",
    "    \n",
    "    Returns\n",
    "    -------\n",
    "    angle : float\n",
    "        The angle between the two vectors.\"\"\"\n",
    "    return np.arccos(v1.T @ v2 / (np.linalg.norm(v1) * np.linalg.norm(v2)))"
   ]
  },
  {
   "attachments": {},
   "cell_type": "markdown",
   "metadata": {},
   "source": [
    "Now we will generate the symmetric matrix A, that we will compute the eigenvalues of."
   ]
  },
  {
   "cell_type": "code",
   "execution_count": 3,
   "metadata": {},
   "outputs": [
    {
     "name": "stdout",
     "output_type": "stream",
     "text": [
      "[[0.49969432 0.20426618 0.1863525  0.4636774  0.68510798 0.18171879]\n",
      " [0.20426618 0.48024773 0.40624058 0.27008179 0.55602103 0.28175302]\n",
      " [0.1863525  0.40624058 0.10188615 0.496746   0.50538249 0.1579067 ]\n",
      " [0.4636774  0.27008179 0.496746   0.06309849 0.51591961 0.51621161]\n",
      " [0.68510798 0.55602103 0.50538249 0.51591961 0.97858347 0.34524998]\n",
      " [0.18171879 0.28175302 0.1579067  0.51621161 0.34524998 0.04031375]]\n"
     ]
    }
   ],
   "source": [
    "N = 6\n",
    "A = generate_symmetric(N)\n",
    "print(A)"
   ]
  },
  {
   "attachments": {},
   "cell_type": "markdown",
   "metadata": {},
   "source": [
    "We will first use our neural network based approach."
   ]
  },
  {
   "cell_type": "code",
   "execution_count": 4,
   "metadata": {},
   "outputs": [
    {
     "name": "stdout",
     "output_type": "stream",
     "text": [
      "Found eigenvector 1 (iteration 1)\n",
      "Failed to find eigenvector: Cost too high (iteration2)\n",
      "Found eigenvector 2 (iteration 3)\n",
      "Found eigenvector 3 (iteration 4)\n",
      "Failed to find eigenvector: Cost too high (iteration5)\n",
      "Found eigenvector 4 (iteration 6)\n",
      "Failed to find eigenvector: Cost too high (iteration7)\n",
      "Failed to find eigenvector: Cost too high (iteration8)\n",
      "Found eigenvector 5 (iteration 9)\n",
      "Failed to find eigenvector: Cost too high (iteration10)\n",
      "Failed to find eigenvector: Cost too high (iteration11)\n",
      "Failed to find eigenvector: Cost too high (iteration12)\n",
      "Failed to find eigenvector: Cost too high (iteration13)\n",
      "Failed to find eigenvector: Cost too high (iteration14)\n",
      "Failed to find eigenvector: Cost too high (iteration15)\n",
      "Found eigenvector 6 (iteration 16)\n",
      "[ 0.14425201 -0.62729249 -0.12846113  2.46711493 -0.05514846  0.36335905]\n",
      "[[ 0.03174839  0.20177533  0.22091589  0.39848486  0.5663826   0.65565763]\n",
      " [-0.29127822 -0.11690719 -0.04189745  0.36907899  0.57564712 -0.65737305]\n",
      " [ 0.12994269  0.43971759  0.70059516  0.3249078  -0.33177974 -0.28854277]\n",
      " [ 0.55759238 -0.72242697  0.13302794  0.37535014 -0.09272376  0.00247302]\n",
      " [-0.49671557 -0.05508121 -0.31466637  0.62398369 -0.47856819  0.18120238]\n",
      " [ 0.58277415  0.47679436 -0.5846687   0.26302481  0.01165783 -0.14786757]]\n",
      "\n"
     ]
    }
   ],
   "source": [
    "nnval, nnvec = compute_eigenvalues_eigenvectors(A)\n",
    "print(nnval)\n",
    "print(nnvec)"
   ]
  },
  {
   "attachments": {},
   "cell_type": "markdown",
   "metadata": {},
   "source": [
    "Next, we compare our results with eigenvalues and eigenvectors computed using the numpy library."
   ]
  },
  {
   "cell_type": "code",
   "execution_count": 5,
   "metadata": {},
   "outputs": [
    {
     "name": "stdout",
     "output_type": "stream",
     "text": [
      "[ 0.14425211 -0.62729381 -0.12846239  2.46712105 -0.05515206  0.36335901]\n",
      "[[ 0.03202882  0.20193313  0.21881617  0.39898406  0.56666903  0.65575496]\n",
      " [-0.29081013 -0.11627481 -0.04368054  0.3700923   0.57505808 -0.65752684]\n",
      " [ 0.13011413  0.43995177  0.70151658  0.32459808 -0.33022434 -0.28805419]\n",
      " [ 0.55747908 -0.72229493  0.13301748  0.37572404 -0.09294372  0.00252218]\n",
      " [-0.4971552  -0.05482421 -0.31327196  0.62320205 -0.48002881  0.18133734]\n",
      " [ 0.58269007  0.47689618 -0.58502393  0.2625455   0.0089502  -0.14757736]]\n"
     ]
    }
   ],
   "source": [
    "val, vec = np.linalg.eig(A)\n",
    "for i in range(N):\n",
    "    if vec[0, i] < 0:\n",
    "        vec[:, i] = -vec[:, i]\n",
    "\n",
    "idx = sorted([(vec[0, i], i) for i in range(N)])\n",
    "idx = [i[1] for i in idx]\n",
    "val = val[idx]\n",
    "vec = vec[:, idx]\n",
    "print(val)\n",
    "print(vec)"
   ]
  },
  {
   "attachments": {},
   "cell_type": "markdown",
   "metadata": {},
   "source": [
    "Compute angle between computed eigenvectors and numpy eigenvectors"
   ]
  },
  {
   "cell_type": "code",
   "execution_count": 11,
   "metadata": {},
   "outputs": [
    {
     "name": "stdout",
     "output_type": "stream",
     "text": [
      "0.0007350728035931086\n",
      "0.0007572995209456287\n",
      "0.0032415126846173804\n",
      "0.001533759301925556\n",
      "0.0035158719997836047\n",
      "0.0006137225616801615\n",
      "mean angle: 0.00173287314542424\n"
     ]
    }
   ],
   "source": [
    "angles = [compute_angle(nnvec[:, i].reshape(N, 1), vec[:, i].reshape(N, 1))[0,0] for i in range(N)]\n",
    "print(*angles, sep=\"\\n\")\n",
    "print(\"mean angle:\", np.mean(angles))"
   ]
  },
  {
   "attachments": {},
   "cell_type": "markdown",
   "metadata": {},
   "source": [
    "Compute absolute error between computed eigenvalues and numpy eigenvalues"
   ]
  },
  {
   "cell_type": "code",
   "execution_count": 16,
   "metadata": {},
   "outputs": [
    {
     "name": "stdout",
     "output_type": "stream",
     "text": [
      "1.03355881408973e-07\n",
      "1.3197551427257537e-06\n",
      "1.2620045375943967e-06\n",
      "6.115988085308999e-06\n",
      "3.5977950763182998e-06\n",
      "3.978380230806877e-08\n",
      "mean absolute error: 2.073113754277415e-06\n",
      "max absolute error: 6.115988085308999e-06\n",
      "min absolute error: 3.978380230806877e-08\n"
     ]
    }
   ],
   "source": [
    "errors = [abs(nnval[i] - val[i]) for i in range(N)]\n",
    "print(*errors, sep=\"\\n\")\n",
    "print(\"mean absolute error:\", np.mean(errors))\n",
    "print(\"max absolute error:\", np.max(errors))\n",
    "print(\"min absolute error:\", np.min(errors))"
   ]
  },
  {
   "attachments": {},
   "cell_type": "markdown",
   "metadata": {},
   "source": [
    "Compute relative error between computed eigenvalues and numpy eigenvalues"
   ]
  },
  {
   "cell_type": "code",
   "execution_count": 17,
   "metadata": {},
   "outputs": [
    {
     "name": "stdout",
     "output_type": "stream",
     "text": [
      "7.164947558738334e-07\n",
      "2.103886754403669e-06\n",
      "9.82392191637955e-06\n",
      "2.4789979770234476e-06\n",
      "6.52341037353723e-05\n",
      "1.0948896488692241e-07\n",
      "mean relative error: 1.3411149017323286e-05\n",
      "max relative error: 6.52341037353723e-05\n",
      "min relative error: 1.0948896488692241e-07\n"
     ]
    }
   ],
   "source": [
    "rel_errors = [abs(nnval[i] - val[i]) / abs(val[i]) for i in range(N)]\n",
    "print(*rel_errors, sep=\"\\n\")\n",
    "print(\"mean relative error:\", np.mean(rel_errors))\n",
    "print(\"max relative error:\", np.max(rel_errors))\n",
    "print(\"min relative error:\", np.min(rel_errors))"
   ]
  }
 ],
 "metadata": {
  "kernelspec": {
   "display_name": "Python 3",
   "language": "python",
   "name": "python3"
  },
  "language_info": {
   "codemirror_mode": {
    "name": "ipython",
    "version": 3
   },
   "file_extension": ".py",
   "mimetype": "text/x-python",
   "name": "python",
   "nbconvert_exporter": "python",
   "pygments_lexer": "ipython3",
   "version": "3.10.6"
  },
  "orig_nbformat": 4,
  "vscode": {
   "interpreter": {
    "hash": "e7370f93d1d0cde622a1f8e1c04877d8463912d04d973331ad4851f04de6915a"
   }
  }
 },
 "nbformat": 4,
 "nbformat_minor": 2
}
