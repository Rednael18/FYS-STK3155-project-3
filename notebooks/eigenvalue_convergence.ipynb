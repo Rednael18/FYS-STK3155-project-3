{
 "cells": [
  {
   "cell_type": "code",
   "execution_count": 29,
   "metadata": {},
   "outputs": [],
   "source": [
    "import numpy as np\n",
    "import matplotlib.pyplot as plt\n",
    "\n",
    "from eigenvalue_solver import compute_eigenvalues_eigenvectors, compute_eigenvalues, generate_symmetric\n",
    "from feedforward_nn import NeuralNetwork\n",
    "from gradient_descent import GradientDescent\n",
    "\n",
    "import seaborn as sns\n",
    "\n",
    "sns.set()"
   ]
  },
  {
   "cell_type": "code",
   "execution_count": 5,
   "metadata": {},
   "outputs": [],
   "source": [
    "N = 6\n",
    "A = generate_symmetric(N)"
   ]
  },
  {
   "cell_type": "code",
   "execution_count": 26,
   "metadata": {},
   "outputs": [
    {
     "name": "stdout",
     "output_type": "stream",
     "text": [
      "[ 2.46712105 -0.62729381  0.36335901 -0.12846239 -0.05515206  0.14425211]\n",
      "Weight scaling: 1\n",
      "Average difference: 2.3237665060035115\n",
      "Weight scaling: 2\n",
      "Average difference: 1.9299978669239595\n",
      "Weight scaling: 4\n",
      "Average difference: 0.025797830119130144\n",
      "Weight scaling: 8\n",
      "Average difference: 0.000487793578832707\n",
      "Weight scaling: 16\n",
      "Average difference: 0.0005368761061001903\n",
      "Weight scaling: 32\n",
      "Average difference: 0.0007839447353348072\n",
      "Weight scaling: 64\n",
      "Average difference: 0.0009120397874941011\n",
      "Weight scaling: 128\n",
      "Average difference: 0.0010216227706084879\n"
     ]
    }
   ],
   "source": [
    "eta = 0.01\n",
    "epochs = 1000\n",
    "weight_scalings = [1, 2, 4, 8, 16, 32, 64, 128]\n",
    "\n",
    "val, vec = np.linalg.eig(A)\n",
    "print(val)\n",
    "avg_diff = []\n",
    "n_averages = 100\n",
    "for scaling in weight_scalings:\n",
    "    diff = []\n",
    "    for i in range(n_averages):\n",
    "\n",
    "        x0 = np.array([0.5, 0.5, 0.5, 0.5, 0.5, 0.5])\n",
    "        #x0 = np.random.rand(1, N)\n",
    "        x0 = x0 / np.linalg.norm(x0)\n",
    "\n",
    "        # Run the computation\n",
    "        nn = NeuralNetwork([N, 20, 20, N], activation=\"relu\", cost_function=\"eigen\", A=A)\n",
    "        wb = nn.wb() / scaling\n",
    "        gd = GradientDescent(mode=\"adam\", momentum_param=0.5, store_extra=True)   \n",
    "        wb = gd.train(x0, wb, x0, nn, eta, epochs)\n",
    "        eigenvector_candidate = x0 + nn.predict(wb, x0)\n",
    "        eigenvector = eigenvector_candidate / np.linalg.norm(eigenvector_candidate)\n",
    "        eigenvalue = (eigenvector @ A @ eigenvector.T / (eigenvector @ eigenvector.T))[0, 0]\n",
    "\n",
    "        diff.append(np.abs(eigenvalue - val[0]))\n",
    "    \n",
    "    print(f\"Weight scaling: {scaling}\")\n",
    "    print(f\"Average difference: {np.mean(diff)}\")\n",
    "    avg_diff.append(np.mean(diff))    "
   ]
  },
  {
   "cell_type": "code",
   "execution_count": 33,
   "metadata": {},
   "outputs": [
    {
     "data": {
      "image/png": "[encoded data removed]",
      "text/plain": [
       "<Figure size 432x288 with 1 Axes>"
      ]
     },
     "metadata": {},
     "output_type": "display_data"
    }
   ],
   "source": [
    "\n",
    "fig, ax = plt.subplots()\n",
    "# set title\n",
    "ax.set_title(\"Eigenvalue Convergence\")\n",
    "\n",
    "ax.set_xlabel(\"Weight scaling\")\n",
    "ax.set_ylabel(\"Average difference\")\n",
    "\n",
    "ax.set_xscale('log', base=2)\n",
    "ax.set_yscale('log', base=2)\n",
    "\n",
    "\n",
    "ax.plot(weight_scalings, avg_diff, linestyle='--', marker='o')\n",
    "plt.savefig(\"Plots/weight_scaling_convergence.pdf\")\n",
    "plt.show()"
   ]
  }
 ],
 "metadata": {
  "kernelspec": {
   "display_name": "Python 3",
   "language": "python",
   "name": "python3"
  },
  "language_info": {
   "codemirror_mode": {
    "name": "ipython",
    "version": 3
   },
   "file_extension": ".py",
   "mimetype": "text/x-python",
   "name": "python",
   "nbconvert_exporter": "python",
   "pygments_lexer": "ipython3",
   "version": "3.10.6 (main, Nov  2 2022, 18:53:38) [GCC 11.3.0]"
  },
  "orig_nbformat": 4,
  "vscode": {
   "interpreter": {
    "hash": "e7370f93d1d0cde622a1f8e1c04877d8463912d04d973331ad4851f04de6915a"
   }
  }
 },
 "nbformat": 4,
 "nbformat_minor": 2
}
